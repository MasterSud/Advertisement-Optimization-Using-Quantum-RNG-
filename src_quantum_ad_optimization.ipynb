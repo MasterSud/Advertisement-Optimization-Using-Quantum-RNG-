{
 "cells": [
  {
   "cell_type": "code",
   "execution_count": 24,
   "id": "6ee72e7c",
   "metadata": {},
   "outputs": [
    {
     "name": "stdout",
     "output_type": "stream",
     "text": [
      "Random number generated with 4 qubits: 15\n",
      "Random number generated with 4 qubits: 8\n",
      "Random number generated with 4 qubits: 10\n",
      "Random number generated with 4 qubits: 2\n",
      "Random number generated with 4 qubits: 0\n",
      "Random number generated with 4 qubits: 3\n",
      "Random number generated with 4 qubits: 12\n",
      "Random number generated with 4 qubits: 1\n",
      "Random number generated with 4 qubits: 9\n",
      "Random number generated with 4 qubits: 6\n",
      "Random number generated with 4 qubits: 11\n",
      "Random number generated with 4 qubits: 5\n",
      "Random number generated with 4 qubits: 4\n",
      "Random number generated with 4 qubits: 14\n",
      "Random number generated with 4 qubits: 13\n",
      "Random number generated with 4 qubits: 7\n"
     ]
    }
   ],
   "source": [
    "from qiskit import *\n",
    "\n",
    "def quantum_rng(num_qubits):\n",
    "    circuit = QuantumCircuit(num_qubits, num_qubits)\n",
    "    for i in range(num_qubits):\n",
    "        circuit.h(i)\n",
    "    circuit.measure(range(num_qubits), range(num_qubits))\n",
    "    simulator = Aer.get_backend('aer_simulator')\n",
    "    job = execute(circuit, simulator, shots=1)\n",
    "    result = job.result()\n",
    "    counts = result.get_counts(circuit)\n",
    "    random_number = int(list(counts.keys())[0], 2)\n",
    "    return random_number\n",
    "\n",
    "# Example usage\n",
    "num_qubits = 4\n",
    "random_number = quantum_rng(num_qubits)\n",
    "l=[]\n",
    "while sorted(l)!=list(range(0,16)):\n",
    "    if random_number in l:\n",
    "        random_number = quantum_rng(num_qubits)\n",
    "    else:\n",
    "        l.append(random_number)\n",
    "        print(\"Random number generated with\", num_qubits, \"qubits:\", random_number)"
   ]
  },
  {
   "cell_type": "code",
   "execution_count": 37,
   "id": "ea120353",
   "metadata": {},
   "outputs": [
    {
     "name": "stdout",
     "output_type": "stream",
     "text": [
      "     ┌───┐┌─┐         \n",
      "q_0: ┤ H ├┤M├─────────\n",
      "     ├───┤└╥┘┌─┐      \n",
      "q_1: ┤ H ├─╫─┤M├──────\n",
      "     ├───┤ ║ └╥┘┌─┐   \n",
      "q_2: ┤ H ├─╫──╫─┤M├───\n",
      "     ├───┤ ║  ║ └╥┘┌─┐\n",
      "q_3: ┤ H ├─╫──╫──╫─┤M├\n",
      "     └───┘ ║  ║  ║ └╥┘\n",
      "c: 4/══════╩══╩══╩══╩═\n",
      "           0  1  2  3 \n"
     ]
    }
   ],
   "source": [
    "circuit = QuantumCircuit(4,4)\n",
    "for i in range(4):\n",
    "    circuit.h(i)\n",
    "    circuit.measure(i,i)\n",
    "    simulator = Aer.get_backend('aer_simulator')\n",
    "    job = execute(circuit, simulator, shots=1)\n",
    "    result = job.result()\n",
    "    counts = result.get_counts(circuit)\n",
    "print(circuit)"
   ]
  },
  {
   "cell_type": "code",
   "execution_count": 35,
   "id": "49e37ac7",
   "metadata": {},
   "outputs": [
    {
     "name": "stdout",
     "output_type": "stream",
     "text": [
      "Random number generated with 4 qubits: 8\n",
      "Random number generated with 4 qubits: 2\n",
      "Random number generated with 4 qubits: 14\n",
      "Random number generated with 4 qubits: 4\n",
      "Random number generated with 4 qubits: 15\n",
      "Random number generated with 4 qubits: 0\n",
      "Random number generated with 4 qubits: 13\n",
      "Random number generated with 4 qubits: 12\n",
      "Random number generated with 4 qubits: 11\n",
      "Random number generated with 4 qubits: 7\n",
      "Random number generated with 4 qubits: 10\n",
      "Random number generated with 4 qubits: 1\n",
      "Random number generated with 4 qubits: 6\n",
      "Random number generated with 4 qubits: 5\n",
      "Random number generated with 4 qubits: 9\n",
      "Random number generated with 4 qubits: 3\n"
     ]
    }
   ],
   "source": [
    "from qiskit import *\n",
    "\n",
    "def quantum_rng(num_qubits):\n",
    "    circuit = QuantumCircuit(num_qubits, num_qubits)\n",
    "    for i in range(num_qubits):\n",
    "        circuit.h(i)\n",
    "    circuit.measure(range(num_qubits), range(num_qubits))\n",
    "    simulator = Aer.get_backend('aer_simulator')\n",
    "    job = execute(circuit, simulator, shots=1)\n",
    "    result = job.result()\n",
    "    counts = result.get_counts(circuit)\n",
    "    random_number = int(list(counts.keys())[0], 2)\n",
    "    return random_number\n",
    "\n",
    "# Example usage\n",
    "num_qubits = 4\n",
    "random_number1 = quantum_rng(num_qubits)\n",
    "random_number2 = quantum_rng(num_qubits)\n",
    "l=[]\n",
    "while sorted(l)!=list(range(0,16)):\n",
    "    if random_number1 in l:\n",
    "        random_number1 = quantum_rng(num_qubits)\n",
    "    elif random_number2 in l:\n",
    "        random_number2 = quantum_rng(num_qubits)\n",
    "    else:\n",
    "        if random_number1>random_number2:\n",
    "            l.append(random_number1)\n",
    "            l.append(random_number2)\n",
    "            print(\"Random number generated with\", num_qubits, \"qubits:\", random_number1)\n",
    "            print(\"Random number generated with\", num_qubits, \"qubits:\", random_number2)\n",
    "        elif random_number1<random_number2:\n",
    "            l.append(random_number1)\n",
    "            l.append(random_number2)\n",
    "            print(\"Random number generated with\", num_qubits, \"qubits:\", random_number2)\n",
    "            print(\"Random number generated with\", num_qubits, \"qubits:\", random_number1)\n",
    "        else:\n",
    "            random_number2 = quantum_rng(num_qubits)"
   ]
  },
  {
   "cell_type": "code",
   "execution_count": 36,
   "id": "7c27dd0f",
   "metadata": {},
   "outputs": [
    {
     "name": "stdout",
     "output_type": "stream",
     "text": [
      "     ┌───┐┌─┐         \n",
      "q_0: ┤ H ├┤M├─────────\n",
      "     ├───┤└╥┘┌─┐      \n",
      "q_1: ┤ H ├─╫─┤M├──────\n",
      "     ├───┤ ║ └╥┘┌─┐   \n",
      "q_2: ┤ H ├─╫──╫─┤M├───\n",
      "     ├───┤ ║  ║ └╥┘┌─┐\n",
      "q_3: ┤ H ├─╫──╫──╫─┤M├\n",
      "     └───┘ ║  ║  ║ └╥┘\n",
      "c: 4/══════╩══╩══╩══╩═\n",
      "           0  1  2  3 \n"
     ]
    }
   ],
   "source": [
    "circuit = QuantumCircuit(4,4)\n",
    "for i in range(4):\n",
    "    circuit.h(i)\n",
    "    circuit.measure(i,i)\n",
    "    simulator = Aer.get_backend('aer_simulator')\n",
    "    job = execute(circuit, simulator, shots=1)\n",
    "    result = job.result()\n",
    "    counts = result.get_counts(circuit)\n",
    "print(circuit)"
   ]
  },
  {
   "cell_type": "code",
   "execution_count": null,
   "id": "b8b2f858",
   "metadata": {},
   "outputs": [],
   "source": []
  }
 ],
 "metadata": {
  "kernelspec": {
   "display_name": "Python 3 (ipykernel)",
   "language": "python",
   "name": "python3"
  },
  "language_info": {
   "codemirror_mode": {
    "name": "ipython",
    "version": 3
   },
   "file_extension": ".py",
   "mimetype": "text/x-python",
   "name": "python",
   "nbconvert_exporter": "python",
   "pygments_lexer": "ipython3",
   "version": "3.10.9"
  }
 },
 "nbformat": 4,
 "nbformat_minor": 5
}
